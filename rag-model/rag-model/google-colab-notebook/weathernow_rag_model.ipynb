{
  "cells": [
    {
      "cell_type": "code",
      "execution_count": null,
      "id": "06anzl8UtNIv",
      "metadata": {
        "id": "06anzl8UtNIv"
      },
      "outputs": [],
      "source": [
        "!pip install python-dotenv\n",
        "from dotenv import load_dotenv\n",
        "\n",
        "# Load variables from .env file\n",
        "load_dotenv('.env')\n",
        "\n",
        "# Use variables\n",
        "api_key = os.getenv('API_KEY')\n",
        "genai_key = os.getenv('GENAI_KEY')"
      ]
    },
    {
      "cell_type": "code",
      "execution_count": null,
      "id": "dce671fad498e247",
      "metadata": {
        "colab": {
          "base_uri": "https://localhost:8080/"
        },
        "id": "dce671fad498e247",
        "outputId": "b27238d3-799c-472a-ca32-cf204ce799b8",
        "scrolled": true
      },
      "outputs": [
        {
          "name": "stdout",
          "output_type": "stream",
          "text": [
            "Requirement already satisfied: transformers<=4.34.0 in /usr/local/lib/python3.11/dist-packages (4.34.0)\n",
            "Requirement already satisfied: openai in /usr/local/lib/python3.11/dist-packages (1.99.1)\n",
            "Requirement already satisfied: torch in /usr/local/lib/python3.11/dist-packages (2.6.0+cu124)\n",
            "Requirement already satisfied: scikit-learn in /usr/local/lib/python3.11/dist-packages (1.6.1)\n",
            "Requirement already satisfied: filelock in /usr/local/lib/python3.11/dist-packages (from transformers<=4.34.0) (3.18.0)\n",
            "Requirement already satisfied: huggingface-hub<1.0,>=0.16.4 in /usr/local/lib/python3.11/dist-packages (from transformers<=4.34.0) (0.17.3)\n",
            "Requirement already satisfied: numpy>=1.17 in /usr/local/lib/python3.11/dist-packages (from transformers<=4.34.0) (2.0.2)\n",
            "Requirement already satisfied: packaging>=20.0 in /usr/local/lib/python3.11/dist-packages (from transformers<=4.34.0) (25.0)\n",
            "Requirement already satisfied: pyyaml>=5.1 in /usr/local/lib/python3.11/dist-packages (from transformers<=4.34.0) (6.0.2)\n",
            "Requirement already satisfied: regex!=2019.12.17 in /usr/local/lib/python3.11/dist-packages (from transformers<=4.34.0) (2024.11.6)\n",
            "Requirement already satisfied: requests in /usr/local/lib/python3.11/dist-packages (from transformers<=4.34.0) (2.32.3)\n",
            "Requirement already satisfied: tokenizers<0.15,>=0.14 in /usr/local/lib/python3.11/dist-packages (from transformers<=4.34.0) (0.14.1)\n",
            "Requirement already satisfied: safetensors>=0.3.1 in /usr/local/lib/python3.11/dist-packages (from transformers<=4.34.0) (0.6.1)\n",
            "Requirement already satisfied: tqdm>=4.27 in /usr/local/lib/python3.11/dist-packages (from transformers<=4.34.0) (4.67.1)\n",
            "Requirement already satisfied: anyio<5,>=3.5.0 in /usr/local/lib/python3.11/dist-packages (from openai) (4.10.0)\n",
            "Requirement already satisfied: distro<2,>=1.7.0 in /usr/local/lib/python3.11/dist-packages (from openai) (1.9.0)\n",
            "Requirement already satisfied: httpx<1,>=0.23.0 in /usr/local/lib/python3.11/dist-packages (from openai) (0.28.1)\n",
            "Requirement already satisfied: jiter<1,>=0.4.0 in /usr/local/lib/python3.11/dist-packages (from openai) (0.10.0)\n",
            "Requirement already satisfied: pydantic<3,>=1.9.0 in /usr/local/lib/python3.11/dist-packages (from openai) (2.11.7)\n",
            "Requirement already satisfied: sniffio in /usr/local/lib/python3.11/dist-packages (from openai) (1.3.1)\n",
            "Requirement already satisfied: typing-extensions<5,>=4.11 in /usr/local/lib/python3.11/dist-packages (from openai) (4.14.1)\n",
            "Requirement already satisfied: networkx in /usr/local/lib/python3.11/dist-packages (from torch) (3.5)\n",
            "Requirement already satisfied: jinja2 in /usr/local/lib/python3.11/dist-packages (from torch) (3.1.6)\n",
            "Requirement already satisfied: fsspec in /usr/local/lib/python3.11/dist-packages (from torch) (2025.3.0)\n",
            "Requirement already satisfied: nvidia-cuda-nvrtc-cu12==12.4.127 in /usr/local/lib/python3.11/dist-packages (from torch) (12.4.127)\n",
            "Requirement already satisfied: nvidia-cuda-runtime-cu12==12.4.127 in /usr/local/lib/python3.11/dist-packages (from torch) (12.4.127)\n",
            "Requirement already satisfied: nvidia-cuda-cupti-cu12==12.4.127 in /usr/local/lib/python3.11/dist-packages (from torch) (12.4.127)\n",
            "Requirement already satisfied: nvidia-cudnn-cu12==9.1.0.70 in /usr/local/lib/python3.11/dist-packages (from torch) (9.1.0.70)\n",
            "Requirement already satisfied: nvidia-cublas-cu12==12.4.5.8 in /usr/local/lib/python3.11/dist-packages (from torch) (12.4.5.8)\n",
            "Requirement already satisfied: nvidia-cufft-cu12==11.2.1.3 in /usr/local/lib/python3.11/dist-packages (from torch) (11.2.1.3)\n",
            "Requirement already satisfied: nvidia-curand-cu12==10.3.5.147 in /usr/local/lib/python3.11/dist-packages (from torch) (10.3.5.147)\n",
            "Requirement already satisfied: nvidia-cusolver-cu12==11.6.1.9 in /usr/local/lib/python3.11/dist-packages (from torch) (11.6.1.9)\n",
            "Requirement already satisfied: nvidia-cusparse-cu12==12.3.1.170 in /usr/local/lib/python3.11/dist-packages (from torch) (12.3.1.170)\n",
            "Requirement already satisfied: nvidia-cusparselt-cu12==0.6.2 in /usr/local/lib/python3.11/dist-packages (from torch) (0.6.2)\n",
            "Requirement already satisfied: nvidia-nccl-cu12==2.21.5 in /usr/local/lib/python3.11/dist-packages (from torch) (2.21.5)\n",
            "Requirement already satisfied: nvidia-nvtx-cu12==12.4.127 in /usr/local/lib/python3.11/dist-packages (from torch) (12.4.127)\n",
            "Requirement already satisfied: nvidia-nvjitlink-cu12==12.4.127 in /usr/local/lib/python3.11/dist-packages (from torch) (12.4.127)\n",
            "Requirement already satisfied: triton==3.2.0 in /usr/local/lib/python3.11/dist-packages (from torch) (3.2.0)\n",
            "Requirement already satisfied: sympy==1.13.1 in /usr/local/lib/python3.11/dist-packages (from torch) (1.13.1)\n",
            "Requirement already satisfied: mpmath<1.4,>=1.1.0 in /usr/local/lib/python3.11/dist-packages (from sympy==1.13.1->torch) (1.3.0)\n",
            "Requirement already satisfied: scipy>=1.6.0 in /usr/local/lib/python3.11/dist-packages (from scikit-learn) (1.16.1)\n",
            "Requirement already satisfied: joblib>=1.2.0 in /usr/local/lib/python3.11/dist-packages (from scikit-learn) (1.5.1)\n",
            "Requirement already satisfied: threadpoolctl>=3.1.0 in /usr/local/lib/python3.11/dist-packages (from scikit-learn) (3.6.0)\n",
            "Requirement already satisfied: idna>=2.8 in /usr/local/lib/python3.11/dist-packages (from anyio<5,>=3.5.0->openai) (3.10)\n",
            "Requirement already satisfied: certifi in /usr/local/lib/python3.11/dist-packages (from httpx<1,>=0.23.0->openai) (2025.8.3)\n",
            "Requirement already satisfied: httpcore==1.* in /usr/local/lib/python3.11/dist-packages (from httpx<1,>=0.23.0->openai) (1.0.9)\n",
            "Requirement already satisfied: h11>=0.16 in /usr/local/lib/python3.11/dist-packages (from httpcore==1.*->httpx<1,>=0.23.0->openai) (0.16.0)\n",
            "Requirement already satisfied: annotated-types>=0.6.0 in /usr/local/lib/python3.11/dist-packages (from pydantic<3,>=1.9.0->openai) (0.7.0)\n",
            "Requirement already satisfied: pydantic-core==2.33.2 in /usr/local/lib/python3.11/dist-packages (from pydantic<3,>=1.9.0->openai) (2.33.2)\n",
            "Requirement already satisfied: typing-inspection>=0.4.0 in /usr/local/lib/python3.11/dist-packages (from pydantic<3,>=1.9.0->openai) (0.4.1)\n",
            "Requirement already satisfied: MarkupSafe>=2.0 in /usr/local/lib/python3.11/dist-packages (from jinja2->torch) (3.0.2)\n",
            "Requirement already satisfied: charset-normalizer<4,>=2 in /usr/local/lib/python3.11/dist-packages (from requests->transformers<=4.34.0) (3.4.2)\n",
            "Requirement already satisfied: urllib3<3,>=1.21.1 in /usr/local/lib/python3.11/dist-packages (from requests->transformers<=4.34.0) (2.5.0)\n"
          ]
        }
      ],
      "source": [
        "!pip install 'transformers<=4.34.0' openai torch scikit-learn"
      ]
    },
    {
      "cell_type": "code",
      "execution_count": null,
      "id": "v6SxDZd9Yp4Z",
      "metadata": {
        "colab": {
          "base_uri": "https://localhost:8080/"
        },
        "id": "v6SxDZd9Yp4Z",
        "outputId": "327f6945-fb64-4d58-b73d-76390bb790e9"
      },
      "outputs": [
        {
          "name": "stdout",
          "output_type": "stream",
          "text": [
            "Requirement already satisfied: fastembed in /usr/local/lib/python3.11/dist-packages (0.7.1)\n",
            "Requirement already satisfied: PyMuPDF in /usr/local/lib/python3.11/dist-packages (1.26.3)\n",
            "Requirement already satisfied: openai in /usr/local/lib/python3.11/dist-packages (1.99.1)\n",
            "Requirement already satisfied: gradio in /usr/local/lib/python3.11/dist-packages (5.41.0)\n",
            "Requirement already satisfied: google-generativeai in /usr/local/lib/python3.11/dist-packages (0.8.5)\n",
            "Requirement already satisfied: qdrant-client[fastembed] in /usr/local/lib/python3.11/dist-packages (1.15.1)\n",
            "Requirement already satisfied: grpcio>=1.41.0 in /usr/local/lib/python3.11/dist-packages (from qdrant-client[fastembed]) (1.74.0)\n",
            "Requirement already satisfied: httpx>=0.20.0 in /usr/local/lib/python3.11/dist-packages (from httpx[http2]>=0.20.0->qdrant-client[fastembed]) (0.28.1)\n",
            "Requirement already satisfied: numpy>=1.21 in /usr/local/lib/python3.11/dist-packages (from qdrant-client[fastembed]) (2.0.2)\n",
            "Requirement already satisfied: portalocker<4.0,>=2.7.0 in /usr/local/lib/python3.11/dist-packages (from qdrant-client[fastembed]) (3.2.0)\n",
            "Requirement already satisfied: protobuf>=3.20.0 in /usr/local/lib/python3.11/dist-packages (from qdrant-client[fastembed]) (5.29.5)\n",
            "Requirement already satisfied: pydantic!=2.0.*,!=2.1.*,!=2.2.0,>=1.10.8 in /usr/local/lib/python3.11/dist-packages (from qdrant-client[fastembed]) (2.11.7)\n",
            "Requirement already satisfied: urllib3<3,>=1.26.14 in /usr/local/lib/python3.11/dist-packages (from qdrant-client[fastembed]) (2.5.0)\n",
            "Collecting huggingface-hub<1.0,>=0.20 (from fastembed)\n",
            "  Using cached huggingface_hub-0.34.4-py3-none-any.whl.metadata (14 kB)\n",
            "Requirement already satisfied: loguru<0.8.0,>=0.7.2 in /usr/local/lib/python3.11/dist-packages (from fastembed) (0.7.3)\n",
            "Requirement already satisfied: mmh3<6.0.0,>=4.1.0 in /usr/local/lib/python3.11/dist-packages (from fastembed) (5.2.0)\n",
            "Requirement already satisfied: onnxruntime!=1.20.0,>=1.17.0 in /usr/local/lib/python3.11/dist-packages (from fastembed) (1.22.1)\n",
            "Requirement already satisfied: pillow<12.0.0,>=10.3.0 in /usr/local/lib/python3.11/dist-packages (from fastembed) (11.3.0)\n",
            "Requirement already satisfied: py-rust-stemmers<0.2.0,>=0.1.0 in /usr/local/lib/python3.11/dist-packages (from fastembed) (0.1.5)\n",
            "Requirement already satisfied: requests<3.0,>=2.31 in /usr/local/lib/python3.11/dist-packages (from fastembed) (2.32.3)\n",
            "Collecting tokenizers<1.0,>=0.15 (from fastembed)\n",
            "  Using cached tokenizers-0.21.4-cp39-abi3-manylinux_2_17_x86_64.manylinux2014_x86_64.whl.metadata (6.7 kB)\n",
            "Requirement already satisfied: tqdm<5.0,>=4.66 in /usr/local/lib/python3.11/dist-packages (from fastembed) (4.67.1)\n",
            "Requirement already satisfied: anyio<5,>=3.5.0 in /usr/local/lib/python3.11/dist-packages (from openai) (4.10.0)\n",
            "Requirement already satisfied: distro<2,>=1.7.0 in /usr/local/lib/python3.11/dist-packages (from openai) (1.9.0)\n",
            "Requirement already satisfied: jiter<1,>=0.4.0 in /usr/local/lib/python3.11/dist-packages (from openai) (0.10.0)\n",
            "Requirement already satisfied: sniffio in /usr/local/lib/python3.11/dist-packages (from openai) (1.3.1)\n",
            "Requirement already satisfied: typing-extensions<5,>=4.11 in /usr/local/lib/python3.11/dist-packages (from openai) (4.14.1)\n",
            "Requirement already satisfied: aiofiles<25.0,>=22.0 in /usr/local/lib/python3.11/dist-packages (from gradio) (24.1.0)\n",
            "Requirement already satisfied: brotli>=1.1.0 in /usr/local/lib/python3.11/dist-packages (from gradio) (1.1.0)\n",
            "Requirement already satisfied: fastapi<1.0,>=0.115.2 in /usr/local/lib/python3.11/dist-packages (from gradio) (0.116.1)\n",
            "Requirement already satisfied: ffmpy in /usr/local/lib/python3.11/dist-packages (from gradio) (0.6.1)\n",
            "Requirement already satisfied: gradio-client==1.11.0 in /usr/local/lib/python3.11/dist-packages (from gradio) (1.11.0)\n",
            "Requirement already satisfied: groovy~=0.1 in /usr/local/lib/python3.11/dist-packages (from gradio) (0.1.2)\n",
            "Requirement already satisfied: jinja2<4.0 in /usr/local/lib/python3.11/dist-packages (from gradio) (3.1.6)\n",
            "Requirement already satisfied: markupsafe<4.0,>=2.0 in /usr/local/lib/python3.11/dist-packages (from gradio) (3.0.2)\n",
            "Requirement already satisfied: orjson~=3.0 in /usr/local/lib/python3.11/dist-packages (from gradio) (3.11.1)\n",
            "Requirement already satisfied: packaging in /usr/local/lib/python3.11/dist-packages (from gradio) (25.0)\n",
            "Requirement already satisfied: pandas<3.0,>=1.0 in /usr/local/lib/python3.11/dist-packages (from gradio) (2.2.2)\n",
            "Requirement already satisfied: pydub in /usr/local/lib/python3.11/dist-packages (from gradio) (0.25.1)\n",
            "Requirement already satisfied: python-multipart>=0.0.18 in /usr/local/lib/python3.11/dist-packages (from gradio) (0.0.20)\n",
            "Requirement already satisfied: pyyaml<7.0,>=5.0 in /usr/local/lib/python3.11/dist-packages (from gradio) (6.0.2)\n",
            "Requirement already satisfied: ruff>=0.9.3 in /usr/local/lib/python3.11/dist-packages (from gradio) (0.12.7)\n",
            "Requirement already satisfied: safehttpx<0.2.0,>=0.1.6 in /usr/local/lib/python3.11/dist-packages (from gradio) (0.1.6)\n",
            "Requirement already satisfied: semantic-version~=2.0 in /usr/local/lib/python3.11/dist-packages (from gradio) (2.10.0)\n",
            "Requirement already satisfied: starlette<1.0,>=0.40.0 in /usr/local/lib/python3.11/dist-packages (from gradio) (0.47.2)\n",
            "Requirement already satisfied: tomlkit<0.14.0,>=0.12.0 in /usr/local/lib/python3.11/dist-packages (from gradio) (0.13.3)\n",
            "Requirement already satisfied: typer<1.0,>=0.12 in /usr/local/lib/python3.11/dist-packages (from gradio) (0.16.0)\n",
            "Requirement already satisfied: uvicorn>=0.14.0 in /usr/local/lib/python3.11/dist-packages (from gradio) (0.35.0)\n",
            "Requirement already satisfied: fsspec in /usr/local/lib/python3.11/dist-packages (from gradio-client==1.11.0->gradio) (2025.3.0)\n",
            "Requirement already satisfied: websockets<16.0,>=10.0 in /usr/local/lib/python3.11/dist-packages (from gradio-client==1.11.0->gradio) (15.0.1)\n",
            "Requirement already satisfied: google-ai-generativelanguage==0.6.15 in /usr/local/lib/python3.11/dist-packages (from google-generativeai) (0.6.15)\n",
            "Requirement already satisfied: google-api-core in /usr/local/lib/python3.11/dist-packages (from google-generativeai) (2.25.1)\n",
            "Requirement already satisfied: google-api-python-client in /usr/local/lib/python3.11/dist-packages (from google-generativeai) (2.177.0)\n",
            "Requirement already satisfied: google-auth>=2.15.0 in /usr/local/lib/python3.11/dist-packages (from google-generativeai) (2.38.0)\n",
            "Requirement already satisfied: proto-plus<2.0.0dev,>=1.22.3 in /usr/local/lib/python3.11/dist-packages (from google-ai-generativelanguage==0.6.15->google-generativeai) (1.26.1)\n",
            "Requirement already satisfied: idna>=2.8 in /usr/local/lib/python3.11/dist-packages (from anyio<5,>=3.5.0->openai) (3.10)\n",
            "Requirement already satisfied: googleapis-common-protos<2.0.0,>=1.56.2 in /usr/local/lib/python3.11/dist-packages (from google-api-core->google-generativeai) (1.70.0)\n",
            "Requirement already satisfied: cachetools<6.0,>=2.0.0 in /usr/local/lib/python3.11/dist-packages (from google-auth>=2.15.0->google-generativeai) (5.5.2)\n",
            "Requirement already satisfied: pyasn1-modules>=0.2.1 in /usr/local/lib/python3.11/dist-packages (from google-auth>=2.15.0->google-generativeai) (0.4.2)\n",
            "Requirement already satisfied: rsa<5,>=3.1.4 in /usr/local/lib/python3.11/dist-packages (from google-auth>=2.15.0->google-generativeai) (4.9.1)\n",
            "Requirement already satisfied: certifi in /usr/local/lib/python3.11/dist-packages (from httpx>=0.20.0->httpx[http2]>=0.20.0->qdrant-client[fastembed]) (2025.8.3)\n",
            "Requirement already satisfied: httpcore==1.* in /usr/local/lib/python3.11/dist-packages (from httpx>=0.20.0->httpx[http2]>=0.20.0->qdrant-client[fastembed]) (1.0.9)\n",
            "Requirement already satisfied: h11>=0.16 in /usr/local/lib/python3.11/dist-packages (from httpcore==1.*->httpx>=0.20.0->httpx[http2]>=0.20.0->qdrant-client[fastembed]) (0.16.0)\n",
            "Requirement already satisfied: h2<5,>=3 in /usr/local/lib/python3.11/dist-packages (from httpx[http2]>=0.20.0->qdrant-client[fastembed]) (4.2.0)\n",
            "Requirement already satisfied: filelock in /usr/local/lib/python3.11/dist-packages (from huggingface-hub<1.0,>=0.20->fastembed) (3.18.0)\n",
            "Requirement already satisfied: hf-xet<2.0.0,>=1.1.3 in /usr/local/lib/python3.11/dist-packages (from huggingface-hub<1.0,>=0.20->fastembed) (1.1.7)\n",
            "Requirement already satisfied: coloredlogs in /usr/local/lib/python3.11/dist-packages (from onnxruntime!=1.20.0,>=1.17.0->fastembed) (15.0.1)\n",
            "Requirement already satisfied: flatbuffers in /usr/local/lib/python3.11/dist-packages (from onnxruntime!=1.20.0,>=1.17.0->fastembed) (25.2.10)\n",
            "Requirement already satisfied: sympy in /usr/local/lib/python3.11/dist-packages (from onnxruntime!=1.20.0,>=1.17.0->fastembed) (1.13.1)\n",
            "Requirement already satisfied: python-dateutil>=2.8.2 in /usr/local/lib/python3.11/dist-packages (from pandas<3.0,>=1.0->gradio) (2.9.0.post0)\n",
            "Requirement already satisfied: pytz>=2020.1 in /usr/local/lib/python3.11/dist-packages (from pandas<3.0,>=1.0->gradio) (2025.2)\n",
            "Requirement already satisfied: tzdata>=2022.7 in /usr/local/lib/python3.11/dist-packages (from pandas<3.0,>=1.0->gradio) (2025.2)\n",
            "Requirement already satisfied: annotated-types>=0.6.0 in /usr/local/lib/python3.11/dist-packages (from pydantic!=2.0.*,!=2.1.*,!=2.2.0,>=1.10.8->qdrant-client[fastembed]) (0.7.0)\n",
            "Requirement already satisfied: pydantic-core==2.33.2 in /usr/local/lib/python3.11/dist-packages (from pydantic!=2.0.*,!=2.1.*,!=2.2.0,>=1.10.8->qdrant-client[fastembed]) (2.33.2)\n",
            "Requirement already satisfied: typing-inspection>=0.4.0 in /usr/local/lib/python3.11/dist-packages (from pydantic!=2.0.*,!=2.1.*,!=2.2.0,>=1.10.8->qdrant-client[fastembed]) (0.4.1)\n",
            "Requirement already satisfied: charset-normalizer<4,>=2 in /usr/local/lib/python3.11/dist-packages (from requests<3.0,>=2.31->fastembed) (3.4.2)\n",
            "Requirement already satisfied: click>=8.0.0 in /usr/local/lib/python3.11/dist-packages (from typer<1.0,>=0.12->gradio) (8.2.1)\n",
            "Requirement already satisfied: shellingham>=1.3.0 in /usr/local/lib/python3.11/dist-packages (from typer<1.0,>=0.12->gradio) (1.5.4)\n",
            "Requirement already satisfied: rich>=10.11.0 in /usr/local/lib/python3.11/dist-packages (from typer<1.0,>=0.12->gradio) (13.9.4)\n",
            "Requirement already satisfied: httplib2<1.0.0,>=0.19.0 in /usr/local/lib/python3.11/dist-packages (from google-api-python-client->google-generativeai) (0.22.0)\n",
            "Requirement already satisfied: google-auth-httplib2<1.0.0,>=0.2.0 in /usr/local/lib/python3.11/dist-packages (from google-api-python-client->google-generativeai) (0.2.0)\n",
            "Requirement already satisfied: uritemplate<5,>=3.0.1 in /usr/local/lib/python3.11/dist-packages (from google-api-python-client->google-generativeai) (4.2.0)\n",
            "Requirement already satisfied: grpcio-status<2.0.0,>=1.33.2 in /usr/local/lib/python3.11/dist-packages (from google-api-core[grpc]!=2.0.*,!=2.1.*,!=2.10.*,!=2.2.*,!=2.3.*,!=2.4.*,!=2.5.*,!=2.6.*,!=2.7.*,!=2.8.*,!=2.9.*,<3.0.0dev,>=1.34.1->google-ai-generativelanguage==0.6.15->google-generativeai) (1.71.2)\n",
            "Requirement already satisfied: hyperframe<7,>=6.1 in /usr/local/lib/python3.11/dist-packages (from h2<5,>=3->httpx[http2]>=0.20.0->qdrant-client[fastembed]) (6.1.0)\n",
            "Requirement already satisfied: hpack<5,>=4.1 in /usr/local/lib/python3.11/dist-packages (from h2<5,>=3->httpx[http2]>=0.20.0->qdrant-client[fastembed]) (4.1.0)\n",
            "Requirement already satisfied: pyparsing!=3.0.0,!=3.0.1,!=3.0.2,!=3.0.3,<4,>=2.4.2 in /usr/local/lib/python3.11/dist-packages (from httplib2<1.0.0,>=0.19.0->google-api-python-client->google-generativeai) (3.2.3)\n",
            "Requirement already satisfied: pyasn1<0.7.0,>=0.6.1 in /usr/local/lib/python3.11/dist-packages (from pyasn1-modules>=0.2.1->google-auth>=2.15.0->google-generativeai) (0.6.1)\n",
            "Requirement already satisfied: six>=1.5 in /usr/local/lib/python3.11/dist-packages (from python-dateutil>=2.8.2->pandas<3.0,>=1.0->gradio) (1.17.0)\n",
            "Requirement already satisfied: markdown-it-py>=2.2.0 in /usr/local/lib/python3.11/dist-packages (from rich>=10.11.0->typer<1.0,>=0.12->gradio) (3.0.0)\n",
            "Requirement already satisfied: pygments<3.0.0,>=2.13.0 in /usr/local/lib/python3.11/dist-packages (from rich>=10.11.0->typer<1.0,>=0.12->gradio) (2.19.2)\n",
            "Requirement already satisfied: humanfriendly>=9.1 in /usr/local/lib/python3.11/dist-packages (from coloredlogs->onnxruntime!=1.20.0,>=1.17.0->fastembed) (10.0)\n",
            "Requirement already satisfied: mpmath<1.4,>=1.1.0 in /usr/local/lib/python3.11/dist-packages (from sympy->onnxruntime!=1.20.0,>=1.17.0->fastembed) (1.3.0)\n",
            "Requirement already satisfied: mdurl~=0.1 in /usr/local/lib/python3.11/dist-packages (from markdown-it-py>=2.2.0->rich>=10.11.0->typer<1.0,>=0.12->gradio) (0.1.2)\n",
            "Using cached huggingface_hub-0.34.4-py3-none-any.whl (561 kB)\n",
            "Using cached tokenizers-0.21.4-cp39-abi3-manylinux_2_17_x86_64.manylinux2014_x86_64.whl (3.1 MB)\n",
            "Installing collected packages: huggingface-hub, tokenizers\n",
            "  Attempting uninstall: huggingface-hub\n",
            "    Found existing installation: huggingface-hub 0.17.3\n",
            "    Uninstalling huggingface-hub-0.17.3:\n",
            "      Successfully uninstalled huggingface-hub-0.17.3\n",
            "  Attempting uninstall: tokenizers\n",
            "    Found existing installation: tokenizers 0.14.1\n",
            "    Uninstalling tokenizers-0.14.1:\n",
            "      Successfully uninstalled tokenizers-0.14.1\n",
            "\u001b[31mERROR: pip's dependency resolver does not currently take into account all the packages that are installed. This behaviour is the source of the following dependency conflicts.\n",
            "transformers 4.34.0 requires tokenizers<0.15,>=0.14, but you have tokenizers 0.21.4 which is incompatible.\n",
            "sentence-transformers 5.0.0 requires transformers<5.0.0,>=4.41.0, but you have transformers 4.34.0 which is incompatible.\u001b[0m\u001b[31m\n",
            "\u001b[0mSuccessfully installed huggingface-hub-0.34.4 tokenizers-0.21.4\n",
            "Requirement already satisfied: PyPDF2==1.28.6 in /usr/local/lib/python3.11/dist-packages (1.28.6)\n"
          ]
        }
      ],
      "source": [
        "!pip install qdrant-client[fastembed] fastembed PyMuPDF openai gradio google-generativeai\n",
        "!pip install PyPDF2==1.28.6"
      ]
    },
    {
      "cell_type": "code",
      "execution_count": null,
      "id": "TWym7lBAaMKc",
      "metadata": {
        "colab": {
          "base_uri": "https://localhost:8080/"
        },
        "id": "TWym7lBAaMKc",
        "outputId": "0fa023fc-124d-4339-fea6-dbc406c24b92"
      },
      "outputs": [
        {
          "name": "stdout",
          "output_type": "stream",
          "text": [
            "PDF read successfully.\n"
          ]
        }
      ],
      "source": [
        "from PyPDF2 import PdfReader, utils\n",
        "import subprocess\n",
        "from io import BytesIO\n",
        "\n",
        "input_path = '/content/repaired-www-foxweather-com.pdf'\n",
        "\n",
        "with open(input_path, 'rb') as input_file:\n",
        "    input_buffer = BytesIO(input_file.read())\n",
        "\n",
        "# Try reading the PDF directly\n",
        "try:\n",
        "    input_pdf = PdfReader(input_buffer)\n",
        "    print(\"PDF read successfully.\")\n",
        "except utils.PdfReadError:\n",
        "    # If direct reading fails, it might be a compression issue.\n",
        "    print(\"Could not read PDF directly. Proceeding with original file.\")\n",
        "    # Reset buffer position for potential later use\n",
        "    input_buffer.seek(0)"
      ]
    },
    {
      "cell_type": "code",
      "execution_count": null,
      "id": "UW3r9KmH1MsF",
      "metadata": {
        "colab": {
          "base_uri": "https://localhost:8080/"
        },
        "id": "UW3r9KmH1MsF",
        "outputId": "26a50485-6c85-4b7f-d17a-0190a1f7ce64"
      },
      "outputs": [
        {
          "name": "stderr",
          "output_type": "stream",
          "text": [
            "[nltk_data] Downloading package punkt to /root/nltk_data...\n",
            "[nltk_data]   Package punkt is already up-to-date!\n",
            "[nltk_data] Downloading package punkt_tab to /root/nltk_data...\n",
            "[nltk_data]   Package punkt_tab is already up-to-date!\n"
          ]
        }
      ],
      "source": [
        "import nltk\n",
        "nltk.download('punkt')\n",
        "nltk.download('punkt_tab')\n",
        "\n",
        "import os\n",
        "import fitz\n",
        "from nltk.tokenize import sent_tokenize"
      ]
    },
    {
      "cell_type": "code",
      "execution_count": null,
      "id": "Y4SStqKuZDHv",
      "metadata": {
        "colab": {
          "base_uri": "https://localhost:8080/"
        },
        "id": "Y4SStqKuZDHv",
        "outputId": "e6fd0de8-dcc8-4c28-cef1-2640fd48e96a"
      },
      "outputs": [
        {
          "name": "stdout",
          "output_type": "stream",
          "text": [
            "[\"DEVELOPING STORY\\nTropical Storm Erin to be Atlantic's first hurricane of 2025 with major strengthening\\nlikely\\nTropical Storm Erin formed in the central Atlantic Ocean on Monday and continues to head northwest.\", 'WEATHER NEWS\\nLEARN: What is a tropical storm?', 'EXCLUSIVE: Analysis from Bryan Norcross\\nRAMPING UP: August is 2nd-busiest month of season\\nPREPARE NOW: How to get ready for a hurricane\\nWatch Live\\nWeather News\\nHow to Watch\\nExtreme Weather\\nLearn\\nLocal Weather\\nEarth & Space\\nLifestyle\\nDeals\\nVideo\\nHeavy rain and high tide in Charleston, South Carolina, prompt flood risk to the\\narea\\nWEATHER NEWS\\nBoston declares heat emergency as temps soar in Northeast, New England\\nWEATHER NEWS\\nWatch: Video shows moment straight-line winds tear roof from Nebraska State\\nPenitentiary\\nEXTREME WEATHER\\nVenus, Jupiter conjunction to wow this week but bad news for Perseid meteor\\nshower peak\\nEARTH & SPACE\\n‘Unprecedented’ flooding swamps Milwaukee leading to water rescues as deadly\\nstorms slam Midwest\\nWEATHER NEWS\\nSee it: Den of rare rattlesnakes spotted in southeastern Minnesota\\nEARTH & SPACE\\nHurricane Henriette continues historic run, passing north of Hawaii after rapid\\nintensification\\nWEATHER NEWS\\nTorrential rain in Florida leads to flooded roads on Sanibel Island\\nWEATHER NEWS\\nMeteorite identified after crashing into Georgia home\\nEARTH & SPACE\\nWhat is a tropical storm?', \"LEARN\\nFeatured Stories\\n3 firefighters injured while battling California's Canyon Fire\\nEXTREME WEATHER\\nSirens wail as 90+ mph winds blast Nebraska, leaving thousands without power\\nWEATHER NEWS\\nNASA’s James Webb Space Telescope spots a potential gas giant\\nEARTH & SPACE\\nWatch: Man taunts, moves dangerously close to bison in Yellowstone National Park\\nEARTH & SPACE\\nTropical Storm Ivo brings rip current threat to Mexico's Pacific coast\\nWEATHER NEWS\\nNASA's Hubble telescope captures sharpest image yet of interstellar comet racing\\nthrough solar system\\nEARTH & SPACE\\nShipwrecks dating back to 1700s uncovered along North Carolina shoreline\\nLIFESTYLE\\nHuman case of West Nile virus confirmed in New Orleans\\nLIFESTYLE\\nWatch: Endangered sea turtle released back into Atlantic from NYC beach\\nEARTH & SPACE\\nEarth or Mars?\", \"See the 'deceptively' clear blue sky spotted on the Red Planet\\nEARTH & SPACE\\nNOW PLAYING\\nFOX Weather\\nListen to the FOX Weather Update\\nHurricane Henriette\\nbegins to move away\\nfrom Hawaii\\nWEATHER NEWS\\nTropical Storm Erin is\\nforecast to become the\\nfirst hurricane of the\\nseason\\nWEATHER NEWS\\nRecord-setting heat\\novertakes parts of\\nNortheast, New England\\nWEATHER NEWS\\nTropical Sto\\nforecast to \\nfirst hurrica\\nseason\\nWEATHER NE\\nPodcast\\nEditor's Picks\\n02:28\\n03:03\\n01:38\\nDownload the FOX Weather App today\\nSEE MORE\\nHurricane Henriette continues historic run, passing north of Hawaii after rapid\\nintensification\\nWEATHER NEWS\\nAmerica's Weather Team\\nSteve Bender\\nFOX Weather\\nMeteorologist\\nKatie Byrne\\nFOX Weather\\nCorrespondent\\nBrandy\\nCampbell\\nFOX Weather\\nCorrespondent\\nBrandon Copic\\nExclusive Storm\\nTracker\\nBob Van \\nFOX Wea\\nMeteorol\\nHurricane HQ\\nTropical Storm Erin to\\nbe Atlantic's first\\nhurricane of 2025\\nwith major\\nstrengthening likely\\nWEATHER NEWS\\nBryan Norcross:\\nTropical Disturbance\\n97L is likely to be\\nnamed Erin this week\\nWEATHER NEWS\\nInvest 97L likely to\\nbecome Tropical\\nStorm Erin soon as\\nnew area to watch\\nemerges in Atlantic\\nWEATHER NEWS\\nBryan Nor\\nTropical D\\nInvest 97L\\neventually\\n... but whe\\nWEATHER NE\\nSEE MORE\\nHurricane Henriette continues historic run, passing north of Hawaii after rapid\\nintensification\\nWEATHER NEWS\\nTropical Storm Erin to\\nbe Atlantic's first\\nhurricane of 2025\\nwith major\\nstrengthening likely\\nWEATHER NEWS\\nHeavy rain and high\\ntide in Charleston,\\nSouth Carolina,\\nprompt flood risk to\\nthe area\\nWEATHER NEWS\\nBoston declares heat\\nemergency as temps\\nsoar in Northeast,\\nNew England\\nWEATHER NEWS\\nBryan Nor\\nTropical D\\n97L is like\\nnamed Eri\\nWEATHER NE\\nSEE MORE\\nWeather News\\nLearn\\nWhat is the 'cone of uncertainty' in hurricane forecasts?\", 'LEARN\\nAugust is the second\\nbusiest month of the\\nhurricane season\\nLEARN\\nWhat is a derecho?', \"LEARN\\nBryan Norcross\\ntackles more\\nhurricane season\\nquestions with expert\\ninsight\\nLEARN\\nWhat is co\\nLEARN\\nSEE MORE\\nWatch: Video shows moment straight-line winds tear roof from Nebraska State\\nPenitentiary\\nEXTREME WEATHER\\nExtreme Weather\\n3 firefighters injured\\nwhile battling\\nCalifornia's Canyon\\nFire\\nEXTREME WEATHER\\nParts of Los Angeles\\nevacuated as Canyon\\nFire explodes to over\\n5,300 acres\\nEXTREME WEATHER\\nFrance’s deadly\\nwildfire, largest in 70\\nyears, contained\\nEXTREME WEATHER\\nSmoke fro\\nwildfires re\\nof Texas a\\ncircles the\\nEXTREME WE\\nSEE MORE\\nSee it: Den of rare rattlesnakes spotted in southeastern Minnesota\\nEARTH & SPACE\\nVenus, Jupiter\\nconjunction to wow\\nthis week but bad\\nnews for Perseid\\nmeteor shower peak\\nEARTH & SPACE\\nMeteorite identified\\nafter crashing into\\nGeorgia home\\nEARTH & SPACE\\nWatch: Endangered\\nsea turtle released\\nback into Atlantic from\\nNYC beach\\nEARTH & SPACE\\nNASA’s Ja\\nSpace Tele\\na potentia\\nEARTH & SPA\\nSEE MORE\\nEarth & Space\\nLifestyle\\nConnect with FOX Weather by submitting your feedback, photos, videos and\\nquestions\\nLIFESTYLE\\nNearly 200 swimmers\\nrescued from rip\\ncurrents in one Florida\\ncounty this week\\nLIFESTYLE\\nHuman case of West\\nNile virus confirmed in\\nNew Orleans\\nLIFESTYLE\\nMan found stranded\\non cliff 2 days after\\ngetting left behind\\nduring birthday outing\\nLIFESTYLE\\nShipwreck\\nback to 17\\nuncovered\\nNorth Caro\\nshoreline\\nLIFESTYLE\\nSEE MORE\\nAbout the App\\nNew Privacy Policy\\nUpdated Terms of Use\\nYour Privacy Choices\\nMedia Relations\\nCorporate Information\\nHelp\\n \\n \\n \\n \\n \\n \\n \\nThis material may not be published, broadcast, rewritten, or redistributed.\", '©2025 FOX News Network, LLC.', 'All rights reserved.', 'Y\\nType in the search box above to see your search results.']\n"
          ]
        }
      ],
      "source": [
        "def extract_text_from_pdf(pdf_path):\n",
        "  doc = fitz.open(pdf_path)\n",
        "  text = \"\"\n",
        "  for page in doc:\n",
        "    text+=page.get_text()\n",
        "  return text\n",
        "\n",
        "def extract_text_from_pdfs_in_directory(directory):\n",
        " for filename in os.listdir(directory):\n",
        "     if filename.endswith(\".pdf\"):\n",
        "         pdf_path = os.path.join(directory, filename)\n",
        "         extracted_text = extract_text_from_pdf(pdf_path)\n",
        "         txt_filename = os.path.splitext(filename)[0] + \".txt\"\n",
        "         txt_filepath = os.path.join(directory, txt_filename)\n",
        "         with open(txt_filepath, \"w\") as txt_file:\n",
        "             txt_file.write(extracted_text)\n",
        "\n",
        "# Specify the directory containing PDF files\n",
        "directory_path = \"/content\"\n",
        "\n",
        "# Extract text from PDFs in the directory and save as text files\n",
        "extract_text_from_pdfs_in_directory(directory_path)\n",
        "\n",
        "import os\n",
        "from nltk.tokenize import sent_tokenize\n",
        "\n",
        "# List all .txt files in the directory\n",
        "txt_files = [file for file in os.listdir(directory_path) if file.endswith('.txt')]\n",
        "\n",
        "# List to store sentences from all files\n",
        "all_sentences = []\n",
        "\n",
        "# Read each text file, split into sentences, and store\n",
        "for txt_file in txt_files:\n",
        " file_path = os.path.join(directory_path, txt_file)\n",
        " with open(file_path, \"r\") as file:\n",
        "     text = file.read()\n",
        "     sentences = sent_tokenize(text)\n",
        "     all_sentences.extend(sentences)\n",
        "\n",
        "# Print the first few sentences as an example\n",
        "print(all_sentences[:10])  # Print first 10 sentences"
      ]
    },
    {
      "cell_type": "code",
      "execution_count": null,
      "id": "12ef6dc6-1b14-4023-b38a-abec745fd1c0",
      "metadata": {
        "colab": {
          "base_uri": "https://localhost:8080/"
        },
        "id": "12ef6dc6-1b14-4023-b38a-abec745fd1c0",
        "outputId": "fe7d8768-585e-4ad5-e139-587c13afcf7b"
      },
      "outputs": [
        {
          "name": "stderr",
          "output_type": "stream",
          "text": [
            "UserWarning: \n",
            "The secret `HF_TOKEN` does not exist in your Colab secrets.\n",
            "To authenticate with the Hugging Face Hub, create a token in your settings tab (https://huggingface.co/settings/tokens), set it as secret in your Google Colab and restart your session.\n",
            "You will be able to reuse this secret in all of your notebooks.\n",
            "Please note that authentication is recommended but still optional to access public models or datasets. [_auth.py:94]\n"
          ]
        }
      ],
      "source": [
        "from fastembed import TextEmbedding\n",
        "import numpy as np\n",
        "import time\n",
        "\n",
        "# Initialize the TextEmbedding model\n",
        "embedding_model = TextEmbedding(model_name=\"BAAI/bge-base-en\", cache_dir=\"./embeddings\")\n",
        "\n",
        "def embed_documents(documents):\n",
        " embeddings = []\n",
        " for document in documents:\n",
        "     # Embed document using FastEmbed\n",
        "     embedding = np.array(list((embedding_model.embed([document]))))\n",
        "\n",
        "     # Append the embedding to the list of embeddings\n",
        "     embeddings.append(embedding)\n",
        "\n",
        " return embeddings\n",
        "\n",
        "# Define the documents\n",
        "documents = all_sentences\n",
        "\n",
        "# Perform embedding generation\n",
        "embeddings = embed_documents(documents)\n",
        "embeddings = [sublist[0] for sublist in embeddings]"
      ]
    },
    {
      "cell_type": "code",
      "execution_count": null,
      "id": "lVRdwCNlqURQ",
      "metadata": {
        "colab": {
          "base_uri": "https://localhost:8080/"
        },
        "id": "lVRdwCNlqURQ",
        "outputId": "691a3743-610c-4c2c-bbe4-8411c3260e32"
      },
      "outputs": [
        {
          "name": "stderr",
          "output_type": "stream",
          "text": [
            "DeprecationWarning: `recreate_collection` method is deprecated and will be removed in the future. Use `collection_exists` to check collection existence and `create_collection` instead. [ipython-input-1646268628.py:11]\n"
          ]
        },
        {
          "data": {
            "text/plain": [
              "True"
            ]
          },
          "execution_count": 7,
          "metadata": {},
          "output_type": "execute_result"
        }
      ],
      "source": [
        "from qdrant_client import QdrantClient\n",
        "from qdrant_client.http.models import Distance, VectorParams\n",
        "from qdrant_client.models import PointStruct\n",
        "\n",
        "client = QdrantClient(\n",
        " url=\"https://ec069eb8-1679-4f53-971c-8fef6fe7d057.us-west-2-0.aws.cloud.qdrant.io\",\n",
        " api_key=\"\", # Replace with your actual API key\n",
        " https=True,\n",
        ")\n",
        "collection_name = 'fastembed_collection'\n",
        "client.recreate_collection(\n",
        " collection_name=collection_name,\n",
        " vectors_config=VectorParams(size=768, distance=Distance.COSINE),\n",
        ")"
      ]
    },
    {
      "cell_type": "code",
      "execution_count": null,
      "id": "kEhRPHUEqVJe",
      "metadata": {
        "id": "kEhRPHUEqVJe"
      },
      "outputs": [],
      "source": [
        "client.upload_points(\n",
        " collection_name=collection_name,\n",
        " points=[\n",
        "     PointStruct(\n",
        "         id=idx,\n",
        "         vector=vector.tolist(),\n",
        "         payload={\"text\": text}\n",
        "     )\n",
        "     for idx, (vector, text) in enumerate(zip(embeddings, documents))\n",
        " ]\n",
        ")"
      ]
    },
    {
      "cell_type": "code",
      "execution_count": null,
      "id": "MJRbs_6ZqcLa",
      "metadata": {
        "colab": {
          "base_uri": "https://localhost:8080/",
          "height": 610
        },
        "id": "MJRbs_6ZqcLa",
        "outputId": "bc76e39a-efc5-4019-dfab-98158176dbf7"
      },
      "outputs": [
        {
          "name": "stdout",
          "output_type": "stream",
          "text": [
            "Colab notebook detected. This cell will run indefinitely so that you can see errors and logs. To turn off, set debug=False in launch().\n",
            "* Running on public URL: https://81820c7335e7871da6.gradio.live\n",
            "\n",
            "This share link expires in 1 week. For free permanent hosting and GPU upgrades, run `gradio deploy` from the terminal in the working directory to deploy to Hugging Face Spaces (https://huggingface.co/spaces)\n"
          ]
        },
        {
          "data": {
            "text/html": [
              "<div><iframe src=\"https://81820c7335e7871da6.gradio.live\" width=\"100%\" height=\"500\" allow=\"autoplay; camera; microphone; clipboard-read; clipboard-write;\" frameborder=\"0\" allowfullscreen></iframe></div>"
            ],
            "text/plain": [
              "<IPython.core.display.HTML object>"
            ]
          },
          "metadata": {},
          "output_type": "display_data"
        }
      ],
      "source": [
        "from typing import List\n",
        "from qdrant_client import QdrantClient\n",
        "import google.generativeai as genai\n",
        "import gradio as gr\n",
        "import numpy as np\n",
        "from qdrant_client import QdrantClient\n",
        "from qdrant_client.models import ScrollResult\n",
        "\n",
        "genai.configure(api_key=\"\") # Replace with your actual API key\n",
        "model = genai.GenerativeModel('gemini-2.5-pro')\n",
        "\n",
        "# Function to generate completion from prompt\n",
        "def generate_completion(prompt):\n",
        " response = model.generate_content(prompt)\n",
        " return response.text\n",
        "\n",
        "# Function to embed Queries\n",
        "def embed_query(Question):\n",
        " return np.array(list(embedding_model.embed([Question])))\n",
        "\n",
        "# Initialize Qdrant Client\n",
        "client = QdrantClient(\n",
        " url=\"https://ec069eb8-1679-4f53-971c-8fef6fe7d057.us-west-2-0.aws.cloud.qdrant.io\",\n",
        " api_key=\"\",  # Replace with your actual API key\n",
        " https=True,\n",
        ")\n",
        "\n",
        "def generate_response(Question):\n",
        " query_embeddings = embed_query(Question)\n",
        " collection_name = 'fastembed_collection'\n",
        " all_text = \"\"\n",
        "\n",
        " # Retrieve all hits and concatenate texts into a single prompt\n",
        " for query_embedding in query_embeddings:\n",
        "  query_vector: List[np.ndarray] = list(query_embedding)\n",
        "\n",
        "  hits = client.search(\n",
        "      collection_name=collection_name,\n",
        "      query_vector=query_vector,\n",
        "      limit=50\n",
        "    )\n",
        "  for hit in hits:\n",
        "      text = hit.payload[\"text\"]\n",
        "      all_text += text + \"\\n\\n\"\n",
        "\n",
        " # Generate completion using all texts as a single prompt\n",
        " prompt = f\"You are a helpful chatbot. Use only the following pieces of context to answer the question. Don't make up any new information:\\n\\n{all_text}\\n\\nQuestion:{Question}\\n\\nAnswer:\"\n",
        " completion = generate_completion(prompt)\n",
        " return completion\n",
        "\n",
        "# Set up the Gradio interface\n",
        "iface = gr.Interface(\n",
        " fn=generate_response,\n",
        " inputs=[gr.Textbox(label=\"Question\")],  # Pass input as a list\n",
        " outputs=[gr.Textbox(label=\"Generated Response\")],  # Pass output as a list\n",
        " title=\"RAG with Qdrant, FastEmbed and Gemini\",\n",
        " description=\"Enter a question and get a generated response based on the retrieved text.\",\n",
        ")\n",
        "\n",
        "iface.launch(share=True,debug=True)"
      ]
    }
  ],
  "metadata": {
    "colab": {
      "provenance": []
    },
    "kernelspec": {
      "display_name": "Python 3",
      "name": "python3"
    },
    "language_info": {
      "name": "python"
    }
  },
  "nbformat": 4,
  "nbformat_minor": 5
}
